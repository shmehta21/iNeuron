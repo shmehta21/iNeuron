{
 "cells": [
  {
   "cell_type": "markdown",
   "metadata": {},
   "source": [
    "<h5>1.1\n",
    "Write a Python Program to implement your own myreduce() function which works exactly like\n",
    "Python's built-in function reduce()<h5>"
   ]
  },
  {
   "cell_type": "code",
   "execution_count": 1,
   "metadata": {},
   "outputs": [
    {
     "name": "stdout",
     "output_type": "stream",
     "text": [
      "15\n",
      "15\n"
     ]
    }
   ],
   "source": [
    "l = [1,2,3,4,5] \n",
    "#Getting cumulative sum using for loop\n",
    "def myreduce(arr):\n",
    "    tot_sum = 0\n",
    "    for i in arr:\n",
    "        tot_sum += i\n",
    "    return tot_sum\n",
    "\n",
    "print(f'{myreduce(l)}')\n",
    "\n",
    "#Using reduce\n",
    "from functools import reduce\n",
    "_tot_sum = reduce(lambda x,y: x+y, l)\n",
    "      \n",
    "print(_tot_sum)"
   ]
  },
  {
   "cell_type": "markdown",
   "metadata": {},
   "source": [
    "<h5>Write a Python program to implement your own myfilter() function which works exactly like\n",
    "Python's built-in function filter()</h5>"
   ]
  },
  {
   "cell_type": "code",
   "execution_count": 2,
   "metadata": {},
   "outputs": [
    {
     "name": "stdout",
     "output_type": "stream",
     "text": [
      "[3, 6, 9]\n",
      "[3, 6, 9]\n"
     ]
    }
   ],
   "source": [
    "l = [2,3,4,6,8,9,20]\n",
    "#Getting #'s from l divisible by 3\n",
    "def myfilter(arr):\n",
    "    all_nos = []\n",
    "    for i in arr:\n",
    "        if i%3 == 0:\n",
    "            all_nos.append(i)\n",
    "    return all_nos\n",
    "\n",
    "print(f'{myfilter(l)}')\n",
    "\n",
    "#Using filter\n",
    "_all_nos = filter(lambda x: x%3==0, l)\n",
    "print(list(_all_nos))"
   ]
  },
  {
   "cell_type": "markdown",
   "metadata": {},
   "source": [
    "<h5> 2.\n",
    "Implement List comprehensions to produce the following lists.\n",
    "Write List comprehensions to produce the following Lists</h5>"
   ]
  },
  {
   "cell_type": "code",
   "execution_count": 3,
   "metadata": {},
   "outputs": [
    {
     "data": {
      "text/plain": [
       "['A', 'C', 'A', 'D', 'G', 'I', 'L', 'D']"
      ]
     },
     "execution_count": 3,
     "metadata": {},
     "output_type": "execute_result"
    }
   ],
   "source": [
    "#['A', 'C', 'A', 'D', 'G', 'I', ’L’, ‘ D’]\n",
    "word = 'acadgild'.upper()\n",
    "[c for c in word]"
   ]
  },
  {
   "cell_type": "code",
   "execution_count": 4,
   "metadata": {},
   "outputs": [
    {
     "data": {
      "text/plain": [
       "['x', 'xx', 'xxx', 'xxxx', 'y', 'yy', 'yyy', 'yyyy', 'z', 'zz', 'zzz', 'zzzz']"
      ]
     },
     "execution_count": 4,
     "metadata": {},
     "output_type": "execute_result"
    }
   ],
   "source": [
    "#['x', 'xx', 'xxx', 'xxxx', 'y', 'yy', 'yyy', 'yyyy', 'z', 'zz', 'zzz', 'zzzz']\n",
    "inp = ['x','y','z']\n",
    "[i * num for i in inp for num in range(1,5)]"
   ]
  },
  {
   "cell_type": "code",
   "execution_count": 5,
   "metadata": {},
   "outputs": [
    {
     "data": {
      "text/plain": [
       "['x', 'y', 'z', 'xx', 'yy', 'zz', 'xxx', 'yyy', 'zzz', 'xxxx', 'yyyy', 'zzzz']"
      ]
     },
     "execution_count": 5,
     "metadata": {},
     "output_type": "execute_result"
    }
   ],
   "source": [
    "#['x', 'y', 'z', 'xx', 'yy', 'zz', 'xx', 'yy', 'zz', 'xxxx', 'yyyy', 'zzzz']\n",
    "input = ['x', 'y', 'z']\n",
    "[num*i for num in range(1,5) for i in input]"
   ]
  },
  {
   "cell_type": "code",
   "execution_count": 6,
   "metadata": {},
   "outputs": [
    {
     "data": {
      "text/plain": [
       "[[2], [3], [4], [3], [4], [5], [4], [5], [6]]"
      ]
     },
     "execution_count": 6,
     "metadata": {},
     "output_type": "execute_result"
    }
   ],
   "source": [
    "#[[2], [3], [4], [3], [4], [5], [4], [5], [6]]\n",
    "input = [2,3,4]\n",
    "[ [item+num] for item in input for num in range(0,3)]"
   ]
  },
  {
   "cell_type": "code",
   "execution_count": 7,
   "metadata": {},
   "outputs": [
    {
     "data": {
      "text/plain": [
       "[[2, 3, 4, 5], [3, 4, 5, 6], [4, 5, 6, 7], [5, 6, 7, 8]]"
      ]
     },
     "execution_count": 7,
     "metadata": {},
     "output_type": "execute_result"
    }
   ],
   "source": [
    "#[[2, 3, 4, 5], [3, 4, 5, 6], [4, 5, 6, 7], [5, 6, 7, 8]]\n",
    "input = [2,3,4,5]\n",
    "[[item+num for item in input] for num in range(0,4)]"
   ]
  },
  {
   "cell_type": "code",
   "execution_count": 8,
   "metadata": {},
   "outputs": [
    {
     "data": {
      "text/plain": [
       "[(1, 1), (2, 1), (3, 1), (1, 2), (2, 2), (3, 2), (1, 3), (2, 3), (3, 3)]"
      ]
     },
     "execution_count": 8,
     "metadata": {},
     "output_type": "execute_result"
    }
   ],
   "source": [
    "#[(1, 1), (2, 1), (3, 1), (1, 2), (2, 2), (3, 2), (1, 3), (2, 3), (3, 3)]\n",
    "input = [1,2,3]\n",
    "[(b,a) for a in input for b in input]"
   ]
  },
  {
   "cell_type": "markdown",
   "metadata": {},
   "source": [
    "<h5>3.\n",
    "Implement a function longestWord() that takes a list of words and returns the longest one.</h5>"
   ]
  },
  {
   "cell_type": "code",
   "execution_count": 9,
   "metadata": {},
   "outputs": [
    {
     "name": "stdout",
     "output_type": "stream",
     "text": [
      "assignment\n"
     ]
    }
   ],
   "source": [
    "def longestWord(listOfWords):\n",
    "    maxLenWord = ''\n",
    "    for word in listOfWords:\n",
    "        if len(word) > len(maxLenWord):\n",
    "            maxLenWord = word\n",
    "    return maxLenWord\n",
    "\n",
    "wordList = ['This','is','an','assignment','from','iNeuron','.']\n",
    "print(f'{longestWord(wordList)}')"
   ]
  },
  {
   "cell_type": "markdown",
   "metadata": {},
   "source": [
    "<h5>\n",
    "Task 2:\n",
    "1.1\n",
    "Write a Python Program(with class concepts) to find the area of the triangle using the below\n",
    "formula.\n",
    "area = (s*(s-a)*(s-b)*(s-c)) ** 0.5\n",
    "Function to take the length of the sides of triangle from user should be defined in the parent\n",
    "class and function to calculate the area should be defined in subclass. </h5>"
   ]
  },
  {
   "cell_type": "code",
   "execution_count": 14,
   "metadata": {},
   "outputs": [
    {
     "name": "stdout",
     "output_type": "stream",
     "text": [
      "Area of triangle is => 6.0\n"
     ]
    }
   ],
   "source": [
    "class Input:\n",
    "    def __init__(self, a, b, c):\n",
    "        self.a = a\n",
    "        self.b = b\n",
    "        self.c = c\n",
    "        \n",
    "          \n",
    "class Calculate(Input):\n",
    "    def __init__(self,a, b, c):\n",
    "        super().__init__(a,b,c)\n",
    "        \n",
    "    def calculateArea(self):\n",
    "        s = (self.a+self.b+self.c)/2\n",
    "        area = (s*(s-self.a)*(s-self.b)*(s-self.c))**0.5\n",
    "        return area\n",
    "    \n",
    "#Getting \"list\" object is not callable while trying to use\"input\"\n",
    "#a = input('Enter value for side a ')\n",
    "#b = input('Enter value for side a: ')\n",
    "#c = input('Enter value for side a: ')\n",
    "obj = Calculate(3,4,5)\n",
    "area = obj.calculateArea()\n",
    "print(f'Area of triangle is => {area}')"
   ]
  },
  {
   "cell_type": "markdown",
   "metadata": {},
   "source": [
    "<h5>Write a function filter_long_words() that takes a list of words and an integer n and returns the list\n",
    "of words that are longer than n</h5>"
   ]
  },
  {
   "cell_type": "code",
   "execution_count": 17,
   "metadata": {},
   "outputs": [
    {
     "name": "stdout",
     "output_type": "stream",
     "text": [
      "['data', 'science', 'enthusiast']\n"
     ]
    }
   ],
   "source": [
    "def filter_long_words(words, lenOfWord):\n",
    "    all_words = []\n",
    "    for word in words:\n",
    "        if len(word) > lenOfWord:\n",
    "            all_words.append(word)\n",
    "    return all_words\n",
    "\n",
    "w = filter_long_words(['I','am','a','data','science','enthusiast'], 3)\n",
    "print(f'{w}')"
   ]
  },
  {
   "cell_type": "markdown",
   "metadata": {},
   "source": [
    "<h5> Write a Python program using function concept that maps list of words into a list of integers\n",
    "representing the lengths of the corresponding words​ .\n",
    "Hint: ​ If a list [ ab,cde,erty] is passed on to the python function output should come as [2,3,4]\n",
    "Here 2,3 and 4 are the lengths of the words in the list. </h5>"
   ]
  },
  {
   "cell_type": "code",
   "execution_count": 20,
   "metadata": {},
   "outputs": [
    {
     "data": {
      "text/plain": [
       "[1, 2, 1, 4, 7, 10]"
      ]
     },
     "execution_count": 20,
     "metadata": {},
     "output_type": "execute_result"
    }
   ],
   "source": [
    "words = ['I','am','a','data','science','enthusiast']\n",
    "[len(word) for word in words]"
   ]
  },
  {
   "cell_type": "markdown",
   "metadata": {},
   "source": [
    "<h5>Write a Python function which takes a character (i.e. a string of length 1) and returns True if it is\n",
    "a vowel, False otherwise.</h5>"
   ]
  },
  {
   "cell_type": "code",
   "execution_count": 24,
   "metadata": {},
   "outputs": [
    {
     "name": "stdout",
     "output_type": "stream",
     "text": [
      "\"a\" is a vowel=>True\n",
      "\"e\" is a vowel=>True\n",
      "\"s\" is a vowel=>False\n",
      "\"z\" is a vowel=>False\n"
     ]
    }
   ],
   "source": [
    "def is_vowel(ch, vowel_list=['a','e','i','o','u']):\n",
    "    return True if ch in vowel_list else False\n",
    "\n",
    "print(f'\"a\" is a vowel=>{is_vowel(\"a\")}')\n",
    "print(f'\"e\" is a vowel=>{is_vowel(\"e\")}')\n",
    "print(f'\"s\" is a vowel=>{is_vowel(\"s\")}')\n",
    "print(f'\"z\" is a vowel=>{is_vowel(\"z\")}')"
   ]
  },
  {
   "cell_type": "code",
   "execution_count": null,
   "metadata": {},
   "outputs": [],
   "source": []
  }
 ],
 "metadata": {
  "kernelspec": {
   "display_name": "Python 3",
   "language": "python",
   "name": "python3"
  },
  "language_info": {
   "codemirror_mode": {
    "name": "ipython",
    "version": 3
   },
   "file_extension": ".py",
   "mimetype": "text/x-python",
   "name": "python",
   "nbconvert_exporter": "python",
   "pygments_lexer": "ipython3",
   "version": "3.7.4"
  }
 },
 "nbformat": 4,
 "nbformat_minor": 2
}
